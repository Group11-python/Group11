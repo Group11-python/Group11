{
 "cells": [
  {
   "cell_type": "code",
   "execution_count": 5,
   "metadata": {},
   "outputs": [],
   "source": [
    "import pandas as pd\n"
   ]
  },
  {
   "cell_type": "code",
   "execution_count": 6,
   "metadata": {},
   "outputs": [],
   "source": [
    "#Read the data from the wine_reviews.csv file. It has 500 customer reviews received for a particular wine brand.\n",
    "wine_reviews=pd.read_csv(\"wine_reviews.csv\")"
   ]
  },
  {
   "cell_type": "code",
   "execution_count": 11,
   "metadata": {},
   "outputs": [
    {
     "name": "stdout",
     "output_type": "stream",
     "text": [
      "Collecting transformers\n",
      "  Downloading transformers-4.47.0-py3-none-any.whl.metadata (43 kB)\n",
      "Collecting torch\n",
      "  Downloading torch-2.5.1-cp312-cp312-win_amd64.whl.metadata (28 kB)\n",
      "Requirement already satisfied: filelock in c:\\users\\admin\\anaconda3\\lib\\site-packages (from transformers) (3.13.1)\n",
      "Collecting huggingface-hub<1.0,>=0.24.0 (from transformers)\n",
      "  Downloading huggingface_hub-0.26.5-py3-none-any.whl.metadata (13 kB)\n",
      "Requirement already satisfied: numpy>=1.17 in c:\\users\\admin\\anaconda3\\lib\\site-packages (from transformers) (1.26.4)\n",
      "Requirement already satisfied: packaging>=20.0 in c:\\users\\admin\\anaconda3\\lib\\site-packages (from transformers) (24.1)\n",
      "Requirement already satisfied: pyyaml>=5.1 in c:\\users\\admin\\anaconda3\\lib\\site-packages (from transformers) (6.0.1)\n",
      "Requirement already satisfied: regex!=2019.12.17 in c:\\users\\admin\\anaconda3\\lib\\site-packages (from transformers) (2024.9.11)\n",
      "Requirement already satisfied: requests in c:\\users\\admin\\anaconda3\\lib\\site-packages (from transformers) (2.32.3)\n",
      "Collecting tokenizers<0.22,>=0.21 (from transformers)\n",
      "  Downloading tokenizers-0.21.0-cp39-abi3-win_amd64.whl.metadata (6.9 kB)\n",
      "Collecting safetensors>=0.4.1 (from transformers)\n",
      "  Downloading safetensors-0.4.5-cp312-none-win_amd64.whl.metadata (3.9 kB)\n",
      "Requirement already satisfied: tqdm>=4.27 in c:\\users\\admin\\anaconda3\\lib\\site-packages (from transformers) (4.66.5)\n",
      "Requirement already satisfied: typing-extensions>=4.8.0 in c:\\users\\admin\\anaconda3\\lib\\site-packages (from torch) (4.11.0)\n",
      "Requirement already satisfied: networkx in c:\\users\\admin\\anaconda3\\lib\\site-packages (from torch) (3.3)\n",
      "Requirement already satisfied: jinja2 in c:\\users\\admin\\anaconda3\\lib\\site-packages (from torch) (3.1.4)\n",
      "Requirement already satisfied: fsspec in c:\\users\\admin\\anaconda3\\lib\\site-packages (from torch) (2024.6.1)\n",
      "Requirement already satisfied: setuptools in c:\\users\\admin\\anaconda3\\lib\\site-packages (from torch) (75.1.0)\n",
      "Collecting sympy==1.13.1 (from torch)\n",
      "  Downloading sympy-1.13.1-py3-none-any.whl.metadata (12 kB)\n",
      "Requirement already satisfied: mpmath<1.4,>=1.1.0 in c:\\users\\admin\\anaconda3\\lib\\site-packages (from sympy==1.13.1->torch) (1.3.0)\n",
      "Requirement already satisfied: colorama in c:\\users\\admin\\anaconda3\\lib\\site-packages (from tqdm>=4.27->transformers) (0.4.6)\n",
      "Requirement already satisfied: MarkupSafe>=2.0 in c:\\users\\admin\\anaconda3\\lib\\site-packages (from jinja2->torch) (2.1.3)\n",
      "Requirement already satisfied: charset-normalizer<4,>=2 in c:\\users\\admin\\anaconda3\\lib\\site-packages (from requests->transformers) (3.3.2)\n",
      "Requirement already satisfied: idna<4,>=2.5 in c:\\users\\admin\\anaconda3\\lib\\site-packages (from requests->transformers) (3.7)\n",
      "Requirement already satisfied: urllib3<3,>=1.21.1 in c:\\users\\admin\\anaconda3\\lib\\site-packages (from requests->transformers) (2.2.3)\n",
      "Requirement already satisfied: certifi>=2017.4.17 in c:\\users\\admin\\anaconda3\\lib\\site-packages (from requests->transformers) (2024.8.30)\n",
      "Downloading transformers-4.47.0-py3-none-any.whl (10.1 MB)\n",
      "   ---------------------------------------- 0.0/10.1 MB ? eta -:--:--\n",
      "   ---------------------------------------- 0.0/10.1 MB ? eta -:--:--\n",
      "   - -------------------------------------- 0.3/10.1 MB ? eta -:--:--\n",
      "   - -------------------------------------- 0.3/10.1 MB ? eta -:--:--\n",
      "   -- ------------------------------------- 0.5/10.1 MB 728.2 kB/s eta 0:00:14\n",
      "   -- ------------------------------------- 0.5/10.1 MB 728.2 kB/s eta 0:00:14\n",
      "   --- ------------------------------------ 0.8/10.1 MB 762.0 kB/s eta 0:00:13\n",
      "   ---- ----------------------------------- 1.0/10.1 MB 786.4 kB/s eta 0:00:12\n",
      "   ----- ---------------------------------- 1.3/10.1 MB 828.3 kB/s eta 0:00:11\n",
      "   ----- ---------------------------------- 1.3/10.1 MB 828.3 kB/s eta 0:00:11\n",
      "   ------ --------------------------------- 1.6/10.1 MB 855.6 kB/s eta 0:00:11\n",
      "   ------- -------------------------------- 1.8/10.1 MB 898.8 kB/s eta 0:00:10\n",
      "   -------- ------------------------------- 2.1/10.1 MB 924.4 kB/s eta 0:00:09\n",
      "   ---------- ----------------------------- 2.6/10.1 MB 999.7 kB/s eta 0:00:08\n",
      "   ----------- ---------------------------- 2.9/10.1 MB 1.0 MB/s eta 0:00:08\n",
      "   ------------ --------------------------- 3.1/10.1 MB 1.0 MB/s eta 0:00:07\n",
      "   ------------- -------------------------- 3.4/10.1 MB 1.1 MB/s eta 0:00:07\n",
      "   --------------- ------------------------ 3.9/10.1 MB 1.1 MB/s eta 0:00:06\n",
      "   ---------------- ----------------------- 4.2/10.1 MB 1.2 MB/s eta 0:00:06\n",
      "   ------------------ --------------------- 4.7/10.1 MB 1.2 MB/s eta 0:00:05\n",
      "   -------------------- ------------------- 5.2/10.1 MB 1.3 MB/s eta 0:00:04\n",
      "   ---------------------- ----------------- 5.8/10.1 MB 1.4 MB/s eta 0:00:04\n",
      "   ------------------------ --------------- 6.3/10.1 MB 1.4 MB/s eta 0:00:03\n",
      "   -------------------------- ------------- 6.8/10.1 MB 1.5 MB/s eta 0:00:03\n",
      "   ---------------------------- ----------- 7.3/10.1 MB 1.5 MB/s eta 0:00:02\n",
      "   ------------------------------- -------- 7.9/10.1 MB 1.6 MB/s eta 0:00:02\n",
      "   ---------------------------------- ----- 8.7/10.1 MB 1.7 MB/s eta 0:00:01\n",
      "   ------------------------------------- -- 9.4/10.1 MB 1.7 MB/s eta 0:00:01\n",
      "   ---------------------------------------- 10.1/10.1 MB 1.8 MB/s eta 0:00:00\n",
      "Downloading torch-2.5.1-cp312-cp312-win_amd64.whl (203.0 MB)\n",
      "   ---------------------------------------- 0.0/203.0 MB ? eta -:--:--\n",
      "   ---------------------------------------- 0.8/203.0 MB 4.8 MB/s eta 0:00:43\n",
      "   ---------------------------------------- 1.8/203.0 MB 4.6 MB/s eta 0:00:45\n",
      "    --------------------------------------- 2.6/203.0 MB 4.3 MB/s eta 0:00:47\n",
      "    --------------------------------------- 3.4/203.0 MB 4.5 MB/s eta 0:00:45\n",
      "    --------------------------------------- 4.7/203.0 MB 4.6 MB/s eta 0:00:44\n",
      "   - -------------------------------------- 5.8/203.0 MB 4.8 MB/s eta 0:00:42\n",
      "   - -------------------------------------- 7.1/203.0 MB 5.0 MB/s eta 0:00:40\n",
      "   - -------------------------------------- 8.1/203.0 MB 4.9 MB/s eta 0:00:40\n",
      "   - -------------------------------------- 8.9/203.0 MB 5.0 MB/s eta 0:00:39\n",
      "   -- ------------------------------------- 10.2/203.0 MB 4.9 MB/s eta 0:00:40\n",
      "   -- ------------------------------------- 11.8/203.0 MB 5.1 MB/s eta 0:00:38\n",
      "   -- ------------------------------------- 12.8/203.0 MB 5.1 MB/s eta 0:00:38\n",
      "   -- ------------------------------------- 14.2/203.0 MB 5.2 MB/s eta 0:00:37\n",
      "   --- ------------------------------------ 15.5/203.0 MB 5.3 MB/s eta 0:00:36\n",
      "   --- ------------------------------------ 16.8/203.0 MB 5.3 MB/s eta 0:00:36\n",
      "   --- ------------------------------------ 17.6/203.0 MB 5.3 MB/s eta 0:00:36\n",
      "   --- ------------------------------------ 18.9/203.0 MB 5.3 MB/s eta 0:00:35\n",
      "   --- ------------------------------------ 20.2/203.0 MB 5.3 MB/s eta 0:00:35\n",
      "   ---- ----------------------------------- 21.5/203.0 MB 5.4 MB/s eta 0:00:34\n",
      "   ---- ----------------------------------- 22.8/203.0 MB 5.4 MB/s eta 0:00:34\n",
      "   ---- ----------------------------------- 23.9/203.0 MB 5.4 MB/s eta 0:00:34\n",
      "   ----- ---------------------------------- 25.4/203.0 MB 5.5 MB/s eta 0:00:33\n",
      "   ----- ---------------------------------- 26.5/203.0 MB 5.5 MB/s eta 0:00:33\n",
      "   ----- ---------------------------------- 27.5/203.0 MB 5.5 MB/s eta 0:00:32\n",
      "   ----- ---------------------------------- 28.8/203.0 MB 5.5 MB/s eta 0:00:32\n",
      "   ----- ---------------------------------- 30.1/203.0 MB 5.5 MB/s eta 0:00:32\n",
      "   ------ --------------------------------- 31.5/203.0 MB 5.5 MB/s eta 0:00:32\n",
      "   ------ --------------------------------- 32.8/203.0 MB 5.5 MB/s eta 0:00:31\n",
      "   ------ --------------------------------- 33.8/203.0 MB 5.5 MB/s eta 0:00:31\n",
      "   ------ --------------------------------- 35.4/203.0 MB 5.6 MB/s eta 0:00:31\n",
      "   ------- -------------------------------- 36.7/203.0 MB 5.6 MB/s eta 0:00:30\n",
      "   ------- -------------------------------- 37.5/203.0 MB 5.6 MB/s eta 0:00:30\n",
      "   ------- -------------------------------- 38.8/203.0 MB 5.6 MB/s eta 0:00:30\n",
      "   ------- -------------------------------- 39.8/203.0 MB 5.5 MB/s eta 0:00:30\n",
      "   -------- ------------------------------- 40.9/203.0 MB 5.5 MB/s eta 0:00:30\n",
      "   -------- ------------------------------- 42.2/203.0 MB 5.5 MB/s eta 0:00:30\n",
      "   -------- ------------------------------- 43.3/203.0 MB 5.5 MB/s eta 0:00:29\n",
      "   -------- ------------------------------- 43.8/203.0 MB 5.5 MB/s eta 0:00:30\n",
      "   -------- ------------------------------- 44.8/203.0 MB 5.4 MB/s eta 0:00:30\n",
      "   --------- ------------------------------ 45.9/203.0 MB 5.4 MB/s eta 0:00:29\n",
      "   --------- ------------------------------ 46.9/203.0 MB 5.4 MB/s eta 0:00:29\n",
      "   --------- ------------------------------ 48.0/203.0 MB 5.4 MB/s eta 0:00:29\n",
      "   --------- ------------------------------ 49.0/203.0 MB 5.4 MB/s eta 0:00:29\n",
      "   --------- ------------------------------ 50.1/203.0 MB 5.4 MB/s eta 0:00:29\n",
      "   ---------- ----------------------------- 51.1/203.0 MB 5.4 MB/s eta 0:00:29\n",
      "   ---------- ----------------------------- 51.9/203.0 MB 5.3 MB/s eta 0:00:29\n",
      "   ---------- ----------------------------- 53.0/203.0 MB 5.3 MB/s eta 0:00:29\n",
      "   ---------- ----------------------------- 53.7/203.0 MB 5.3 MB/s eta 0:00:29\n",
      "   ---------- ----------------------------- 54.8/203.0 MB 5.3 MB/s eta 0:00:29\n",
      "   ---------- ----------------------------- 55.6/203.0 MB 5.2 MB/s eta 0:00:29\n",
      "   ----------- ---------------------------- 56.9/203.0 MB 5.3 MB/s eta 0:00:28\n",
      "   ----------- ---------------------------- 58.2/203.0 MB 5.3 MB/s eta 0:00:28\n",
      "   ----------- ---------------------------- 59.5/203.0 MB 5.3 MB/s eta 0:00:28\n",
      "   ----------- ---------------------------- 60.8/203.0 MB 5.3 MB/s eta 0:00:27\n",
      "   ------------ --------------------------- 62.1/203.0 MB 5.3 MB/s eta 0:00:27\n",
      "   ------------ --------------------------- 63.4/203.0 MB 5.3 MB/s eta 0:00:27\n",
      "   ------------ --------------------------- 64.7/203.0 MB 5.3 MB/s eta 0:00:26\n",
      "   ------------ --------------------------- 65.8/203.0 MB 5.3 MB/s eta 0:00:26\n",
      "   ------------- -------------------------- 67.1/203.0 MB 5.4 MB/s eta 0:00:26\n",
      "   ------------- -------------------------- 68.4/203.0 MB 5.4 MB/s eta 0:00:26\n",
      "   ------------- -------------------------- 69.7/203.0 MB 5.4 MB/s eta 0:00:25\n",
      "   ------------- -------------------------- 70.8/203.0 MB 5.4 MB/s eta 0:00:25\n",
      "   -------------- ------------------------- 72.4/203.0 MB 5.4 MB/s eta 0:00:25\n",
      "   -------------- ------------------------- 73.4/203.0 MB 5.4 MB/s eta 0:00:24\n",
      "   -------------- ------------------------- 74.7/203.0 MB 5.4 MB/s eta 0:00:24\n",
      "   -------------- ------------------------- 76.0/203.0 MB 5.4 MB/s eta 0:00:24\n",
      "   --------------- ------------------------ 77.1/203.0 MB 5.4 MB/s eta 0:00:24\n",
      "   --------------- ------------------------ 78.4/203.0 MB 5.4 MB/s eta 0:00:23\n",
      "   --------------- ------------------------ 79.4/203.0 MB 5.4 MB/s eta 0:00:23\n",
      "   --------------- ------------------------ 80.7/203.0 MB 5.4 MB/s eta 0:00:23\n",
      "   ---------------- ----------------------- 82.1/203.0 MB 5.4 MB/s eta 0:00:23\n",
      "   ---------------- ----------------------- 83.4/203.0 MB 5.5 MB/s eta 0:00:22\n",
      "   ---------------- ----------------------- 84.4/203.0 MB 5.5 MB/s eta 0:00:22\n",
      "   ---------------- ----------------------- 85.7/203.0 MB 5.5 MB/s eta 0:00:22\n",
      "   ----------------- ---------------------- 87.0/203.0 MB 5.5 MB/s eta 0:00:22\n",
      "   ----------------- ---------------------- 88.3/203.0 MB 5.5 MB/s eta 0:00:21\n",
      "   ----------------- ---------------------- 89.7/203.0 MB 5.5 MB/s eta 0:00:21\n",
      "   ----------------- ---------------------- 90.7/203.0 MB 5.5 MB/s eta 0:00:21\n",
      "   ------------------ --------------------- 92.0/203.0 MB 5.5 MB/s eta 0:00:21\n",
      "   ------------------ --------------------- 93.3/203.0 MB 5.5 MB/s eta 0:00:20\n",
      "   ------------------ --------------------- 94.4/203.0 MB 5.5 MB/s eta 0:00:20\n",
      "   ------------------ --------------------- 95.9/203.0 MB 5.5 MB/s eta 0:00:20\n",
      "   ------------------- -------------------- 97.0/203.0 MB 5.5 MB/s eta 0:00:20\n",
      "   ------------------- -------------------- 98.0/203.0 MB 5.5 MB/s eta 0:00:20\n",
      "   ------------------- -------------------- 99.1/203.0 MB 5.5 MB/s eta 0:00:19\n",
      "   ------------------- -------------------- 100.4/203.0 MB 5.5 MB/s eta 0:00:19\n",
      "   -------------------- ------------------- 101.7/203.0 MB 5.5 MB/s eta 0:00:19\n",
      "   -------------------- ------------------- 102.8/203.0 MB 5.5 MB/s eta 0:00:19\n",
      "   -------------------- ------------------- 104.1/203.0 MB 5.5 MB/s eta 0:00:18\n",
      "   -------------------- ------------------- 105.4/203.0 MB 5.5 MB/s eta 0:00:18\n",
      "   --------------------- ------------------ 106.7/203.0 MB 5.5 MB/s eta 0:00:18\n",
      "   --------------------- ------------------ 108.0/203.0 MB 5.5 MB/s eta 0:00:18\n",
      "   --------------------- ------------------ 109.3/203.0 MB 5.5 MB/s eta 0:00:17\n",
      "   --------------------- ------------------ 110.4/203.0 MB 5.6 MB/s eta 0:00:17\n",
      "   --------------------- ------------------ 111.7/203.0 MB 5.5 MB/s eta 0:00:17\n",
      "   ---------------------- ----------------- 113.0/203.0 MB 5.5 MB/s eta 0:00:17\n",
      "   ---------------------- ----------------- 114.0/203.0 MB 5.5 MB/s eta 0:00:17\n",
      "   ---------------------- ----------------- 115.3/203.0 MB 5.6 MB/s eta 0:00:16\n",
      "   ---------------------- ----------------- 116.7/203.0 MB 5.6 MB/s eta 0:00:16\n",
      "   ----------------------- ---------------- 118.0/203.0 MB 5.6 MB/s eta 0:00:16\n",
      "   ----------------------- ---------------- 119.3/203.0 MB 5.6 MB/s eta 0:00:16\n",
      "   ----------------------- ---------------- 120.6/203.0 MB 5.6 MB/s eta 0:00:15\n",
      "   ----------------------- ---------------- 121.1/203.0 MB 5.6 MB/s eta 0:00:15\n",
      "   ------------------------ --------------- 122.7/203.0 MB 5.6 MB/s eta 0:00:15\n",
      "   ------------------------ --------------- 123.7/203.0 MB 5.6 MB/s eta 0:00:15\n",
      "   ------------------------ --------------- 125.0/203.0 MB 5.6 MB/s eta 0:00:15\n",
      "   ------------------------ --------------- 126.1/203.0 MB 5.6 MB/s eta 0:00:14\n",
      "   ------------------------- -------------- 127.7/203.0 MB 5.6 MB/s eta 0:00:14\n",
      "   ------------------------- -------------- 128.7/203.0 MB 5.6 MB/s eta 0:00:14\n",
      "   ------------------------- -------------- 130.0/203.0 MB 5.6 MB/s eta 0:00:14\n",
      "   ------------------------- -------------- 131.3/203.0 MB 5.6 MB/s eta 0:00:13\n",
      "   -------------------------- ------------- 132.6/203.0 MB 5.6 MB/s eta 0:00:13\n",
      "   -------------------------- ------------- 133.7/203.0 MB 5.6 MB/s eta 0:00:13\n",
      "   -------------------------- ------------- 135.0/203.0 MB 5.6 MB/s eta 0:00:13\n",
      "   -------------------------- ------------- 136.3/203.0 MB 5.6 MB/s eta 0:00:12\n",
      "   --------------------------- ------------ 137.6/203.0 MB 5.6 MB/s eta 0:00:12\n",
      "   --------------------------- ------------ 138.9/203.0 MB 5.6 MB/s eta 0:00:12\n",
      "   --------------------------- ------------ 140.2/203.0 MB 5.6 MB/s eta 0:00:12\n",
      "   --------------------------- ------------ 141.6/203.0 MB 5.6 MB/s eta 0:00:11\n",
      "   ---------------------------- ----------- 142.9/203.0 MB 5.6 MB/s eta 0:00:11\n",
      "   ---------------------------- ----------- 143.9/203.0 MB 5.6 MB/s eta 0:00:11\n",
      "   ---------------------------- ----------- 145.2/203.0 MB 5.6 MB/s eta 0:00:11\n",
      "   ---------------------------- ----------- 146.5/203.0 MB 5.6 MB/s eta 0:00:11\n",
      "   ----------------------------- ---------- 147.8/203.0 MB 5.6 MB/s eta 0:00:10\n",
      "   ----------------------------- ---------- 149.2/203.0 MB 5.6 MB/s eta 0:00:10\n",
      "   ----------------------------- ---------- 150.2/203.0 MB 5.6 MB/s eta 0:00:10\n",
      "   ----------------------------- ---------- 151.5/203.0 MB 5.6 MB/s eta 0:00:10\n",
      "   ------------------------------ --------- 152.8/203.0 MB 5.6 MB/s eta 0:00:09\n",
      "   ------------------------------ --------- 153.9/203.0 MB 5.6 MB/s eta 0:00:09\n",
      "   ------------------------------ --------- 155.2/203.0 MB 5.6 MB/s eta 0:00:09\n",
      "   ------------------------------ --------- 156.5/203.0 MB 5.6 MB/s eta 0:00:09\n",
      "   ------------------------------- -------- 157.8/203.0 MB 5.6 MB/s eta 0:00:09\n",
      "   ------------------------------- -------- 158.9/203.0 MB 5.6 MB/s eta 0:00:08\n",
      "   ------------------------------- -------- 160.4/203.0 MB 5.7 MB/s eta 0:00:08\n",
      "   ------------------------------- -------- 161.5/203.0 MB 5.6 MB/s eta 0:00:08\n",
      "   -------------------------------- ------- 162.8/203.0 MB 5.7 MB/s eta 0:00:08\n",
      "   -------------------------------- ------- 164.1/203.0 MB 5.7 MB/s eta 0:00:07\n",
      "   -------------------------------- ------- 165.4/203.0 MB 5.7 MB/s eta 0:00:07\n",
      "   -------------------------------- ------- 166.7/203.0 MB 5.7 MB/s eta 0:00:07\n",
      "   --------------------------------- ------ 167.8/203.0 MB 5.7 MB/s eta 0:00:07\n",
      "   --------------------------------- ------ 169.1/203.0 MB 5.7 MB/s eta 0:00:06\n",
      "   --------------------------------- ------ 170.4/203.0 MB 5.7 MB/s eta 0:00:06\n",
      "   --------------------------------- ------ 171.7/203.0 MB 5.7 MB/s eta 0:00:06\n",
      "   ---------------------------------- ----- 173.0/203.0 MB 5.7 MB/s eta 0:00:06\n",
      "   ---------------------------------- ----- 174.3/203.0 MB 5.7 MB/s eta 0:00:06\n",
      "   ---------------------------------- ----- 175.4/203.0 MB 5.7 MB/s eta 0:00:05\n",
      "   ---------------------------------- ----- 176.7/203.0 MB 5.7 MB/s eta 0:00:05\n",
      "   ----------------------------------- ---- 178.0/203.0 MB 5.7 MB/s eta 0:00:05\n",
      "   ----------------------------------- ---- 179.3/203.0 MB 5.7 MB/s eta 0:00:05\n",
      "   ----------------------------------- ---- 180.6/203.0 MB 5.7 MB/s eta 0:00:04\n",
      "   ----------------------------------- ---- 181.9/203.0 MB 5.7 MB/s eta 0:00:04\n",
      "   ------------------------------------ --- 183.0/203.0 MB 5.7 MB/s eta 0:00:04\n",
      "   ------------------------------------ --- 184.3/203.0 MB 5.7 MB/s eta 0:00:04\n",
      "   ------------------------------------ --- 185.6/203.0 MB 5.7 MB/s eta 0:00:04\n",
      "   ------------------------------------ --- 186.9/203.0 MB 5.7 MB/s eta 0:00:03\n",
      "   ------------------------------------- -- 188.2/203.0 MB 5.7 MB/s eta 0:00:03\n",
      "   ------------------------------------- -- 189.3/203.0 MB 5.7 MB/s eta 0:00:03\n",
      "   ------------------------------------- -- 190.6/203.0 MB 5.8 MB/s eta 0:00:03\n",
      "   ------------------------------------- -- 191.9/203.0 MB 5.8 MB/s eta 0:00:02\n",
      "   -------------------------------------- - 193.2/203.0 MB 5.8 MB/s eta 0:00:02\n",
      "   -------------------------------------- - 194.5/203.0 MB 5.7 MB/s eta 0:00:02\n",
      "   -------------------------------------- - 195.8/203.0 MB 5.8 MB/s eta 0:00:02\n",
      "   -------------------------------------- - 197.1/203.0 MB 5.8 MB/s eta 0:00:02\n",
      "   ---------------------------------------  198.2/203.0 MB 5.7 MB/s eta 0:00:01\n",
      "   ---------------------------------------  199.5/203.0 MB 5.8 MB/s eta 0:00:01\n",
      "   ---------------------------------------  200.8/203.0 MB 5.8 MB/s eta 0:00:01\n",
      "   ---------------------------------------  202.1/203.0 MB 5.8 MB/s eta 0:00:01\n",
      "   ---------------------------------------  202.9/203.0 MB 5.8 MB/s eta 0:00:01\n",
      "   ---------------------------------------  202.9/203.0 MB 5.8 MB/s eta 0:00:01\n",
      "   ---------------------------------------- 203.0/203.0 MB 5.7 MB/s eta 0:00:00\n",
      "Downloading sympy-1.13.1-py3-none-any.whl (6.2 MB)\n",
      "   ---------------------------------------- 0.0/6.2 MB ? eta -:--:--\n",
      "   -------- ------------------------------- 1.3/6.2 MB 6.1 MB/s eta 0:00:01\n",
      "   ---------------- ----------------------- 2.6/6.2 MB 5.8 MB/s eta 0:00:01\n",
      "   ----------------------- ---------------- 3.7/6.2 MB 5.9 MB/s eta 0:00:01\n",
      "   -------------------------------- ------- 5.0/6.2 MB 6.0 MB/s eta 0:00:01\n",
      "   -------------------------------------- - 6.0/6.2 MB 6.0 MB/s eta 0:00:01\n",
      "   ---------------------------------------- 6.2/6.2 MB 5.7 MB/s eta 0:00:00\n",
      "Downloading huggingface_hub-0.26.5-py3-none-any.whl (447 kB)\n",
      "Downloading safetensors-0.4.5-cp312-none-win_amd64.whl (286 kB)\n",
      "Downloading tokenizers-0.21.0-cp39-abi3-win_amd64.whl (2.4 MB)\n",
      "   ---------------------------------------- 0.0/2.4 MB ? eta -:--:--\n",
      "   --------------------- ------------------ 1.3/2.4 MB 6.1 MB/s eta 0:00:01\n",
      "   ---------------------------------------- 2.4/2.4 MB 5.7 MB/s eta 0:00:00\n",
      "Installing collected packages: sympy, safetensors, torch, huggingface-hub, tokenizers, transformers\n",
      "  Attempting uninstall: sympy\n",
      "    Found existing installation: sympy 1.13.2\n",
      "    Uninstalling sympy-1.13.2:\n",
      "      Successfully uninstalled sympy-1.13.2\n",
      "Successfully installed huggingface-hub-0.26.5 safetensors-0.4.5 sympy-1.13.1 tokenizers-0.21.0 torch-2.5.1 transformers-4.47.0\n",
      "Note: you may need to restart the kernel to use updated packages.\n"
     ]
    }
   ],
   "source": [
    "pip install transformers torch"
   ]
  },
  {
   "cell_type": "code",
   "execution_count": 2,
   "metadata": {},
   "outputs": [
    {
     "data": {
      "application/vnd.jupyter.widget-view+json": {
       "model_id": "cc6e47c55eec42b083160a24c9dc69f3",
       "version_major": 2,
       "version_minor": 0
      },
      "text/plain": [
       "config.json:   0%|          | 0.00/1.07k [00:00<?, ?B/s]"
      ]
     },
     "metadata": {},
     "output_type": "display_data"
    },
    {
     "name": "stderr",
     "output_type": "stream",
     "text": [
      "c:\\Users\\Admin\\anaconda3\\Lib\\site-packages\\huggingface_hub\\file_download.py:139: UserWarning: `huggingface_hub` cache-system uses symlinks by default to efficiently store duplicated files but your machine does not support them in C:\\Users\\Admin\\.cache\\huggingface\\hub\\models--MoritzLaurer--mDeBERTa-v3-base-mnli-xnli. Caching files will still work but in a degraded version that might require more space on your disk. This warning can be disabled by setting the `HF_HUB_DISABLE_SYMLINKS_WARNING` environment variable. For more details, see https://huggingface.co/docs/huggingface_hub/how-to-cache#limitations.\n",
      "To support symlinks on Windows, you either need to activate Developer Mode or to run Python as an administrator. In order to activate developer mode, see this article: https://docs.microsoft.com/en-us/windows/apps/get-started/enable-your-device-for-development\n",
      "  warnings.warn(message)\n"
     ]
    },
    {
     "data": {
      "application/vnd.jupyter.widget-view+json": {
       "model_id": "3eb92312abdb46d28b605eb15d5a1803",
       "version_major": 2,
       "version_minor": 0
      },
      "text/plain": [
       "model.safetensors:   0%|          | 0.00/558M [00:00<?, ?B/s]"
      ]
     },
     "metadata": {},
     "output_type": "display_data"
    },
    {
     "data": {
      "application/vnd.jupyter.widget-view+json": {
       "model_id": "25869c1e42e8498ba3345a3c22520dc9",
       "version_major": 2,
       "version_minor": 0
      },
      "text/plain": [
       "tokenizer_config.json:   0%|          | 0.00/1.26k [00:00<?, ?B/s]"
      ]
     },
     "metadata": {},
     "output_type": "display_data"
    },
    {
     "data": {
      "application/vnd.jupyter.widget-view+json": {
       "model_id": "0b741d04f4d640afa0b33b88f70be262",
       "version_major": 2,
       "version_minor": 0
      },
      "text/plain": [
       "spm.model:   0%|          | 0.00/4.31M [00:00<?, ?B/s]"
      ]
     },
     "metadata": {},
     "output_type": "display_data"
    },
    {
     "data": {
      "application/vnd.jupyter.widget-view+json": {
       "model_id": "d878a3cf0bda4f8ebc63c32357b58efd",
       "version_major": 2,
       "version_minor": 0
      },
      "text/plain": [
       "tokenizer.json:   0%|          | 0.00/16.3M [00:00<?, ?B/s]"
      ]
     },
     "metadata": {},
     "output_type": "display_data"
    },
    {
     "data": {
      "application/vnd.jupyter.widget-view+json": {
       "model_id": "ab05fc44f3fc42e291521813fe7fb6ac",
       "version_major": 2,
       "version_minor": 0
      },
      "text/plain": [
       "added_tokens.json:   0%|          | 0.00/23.0 [00:00<?, ?B/s]"
      ]
     },
     "metadata": {},
     "output_type": "display_data"
    },
    {
     "data": {
      "application/vnd.jupyter.widget-view+json": {
       "model_id": "d9b4f6018a224fe0861190b471bb7535",
       "version_major": 2,
       "version_minor": 0
      },
      "text/plain": [
       "special_tokens_map.json:   0%|          | 0.00/286 [00:00<?, ?B/s]"
      ]
     },
     "metadata": {},
     "output_type": "display_data"
    },
    {
     "name": "stderr",
     "output_type": "stream",
     "text": [
      "Device set to use cpu\n"
     ]
    }
   ],
   "source": [
    "from transformers import pipeline\n",
    "#Load the zero-shot classification pipeline\n",
    "classifier=pipeline(\"zero-shot-classification\",model=\"MoritzLaurer/mDeBERTa-v3-base-mnli-xnli\")"
   ]
  },
  {
   "cell_type": "code",
   "execution_count": 8,
   "metadata": {},
   "outputs": [],
   "source": [
    "#Define the candidate labels\n",
    "labels = [\n",
    "    \"talks about food combinations\",\"talks about taste\", \"talk about value for money\", \"other\"\n",
    "]\n",
    "\n",
    "#Define a function to classify a single review\n",
    "def classify_review(review):\n",
    "    result = classifier(review, candidate_labels=labels)\n",
    "    return result[\"labels\"][0], result[\"scores\"][0] #Return top label and confidence score \n",
    "\n",
    "#Apply classification to all reviews i the dataset\n",
    "wine_reviews[\"talks_about\"],wine_reviews[\"confidence\"] = zip(\n",
    "    *wine_reviews[\"review\"].apply(classify_review)\n",
    "    \n",
    ")\n",
    "\n",
    "#Save the classified data to a  new csv file\n",
    "wine_reviews.to_csv(\"classified_wine_reviews.csv\", index=False)\n"
   ]
  },
  {
   "cell_type": "code",
   "execution_count": null,
   "metadata": {},
   "outputs": [],
   "source": []
  },
  {
   "cell_type": "markdown",
   "metadata": {},
   "source": []
  }
 ],
 "metadata": {
  "kernelspec": {
   "display_name": "base",
   "language": "python",
   "name": "python3"
  },
  "language_info": {
   "codemirror_mode": {
    "name": "ipython",
    "version": 3
   },
   "file_extension": ".py",
   "mimetype": "text/x-python",
   "name": "python",
   "nbconvert_exporter": "python",
   "pygments_lexer": "ipython3",
   "version": "3.12.7"
  }
 },
 "nbformat": 4,
 "nbformat_minor": 2
}
